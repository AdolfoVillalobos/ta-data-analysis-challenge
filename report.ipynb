{
 "cells": [
  {
   "cell_type": "code",
   "execution_count": 2,
   "metadata": {},
   "outputs": [],
   "source": [
    "import numpy as np\n",
    "import pandas as pd\n",
    "\n",
    "import seaborn as sns\n",
    "import matplotlib.pyplot as plt\n",
    "%matplotlib inline"
   ]
  },
  {
   "cell_type": "code",
   "execution_count": null,
   "metadata": {},
   "outputs": [],
   "source": []
  },
  {
   "attachments": {},
   "cell_type": "markdown",
   "metadata": {},
   "source": [
    "# Intro - Desafío Data Analyst - Total Abogados\n",
    "\n"
   ]
  },
  {
   "attachments": {},
   "cell_type": "markdown",
   "metadata": {},
   "source": [
    "## Dataset\n",
    "\n",
    "El dataset\n",
    "\n",
    "\n"
   ]
  },
  {
   "attachments": {},
   "cell_type": "markdown",
   "metadata": {},
   "source": [
    "\n",
    "## Preguntas de Negocio\n",
    "\n",
    "1. What are the most common types of credit card transactions in the dataset?\n",
    "2. What are the key features that differentiate fraudulent transactions from normal transactions?\n",
    "3. Can we build a model that accurately predicts fraudulent transactions in real-time?\n",
    "4. What is the average transaction amount in the dataset and how does it vary by country?\n",
    "5. How does the number of transactions per day change over time?\n",
    "6. What is the average time between a transaction being made and it being recognized as fraud?\n",
    "7. Can we identify any specific geographic locations or merchant categories that are more susceptible to credit card fraud?\n",
    "8. What are the most common times of day when credit card fraud occurs?\n",
    "9. Are there any seasonal trends in the frequency of credit card fraud?\n",
    "10. Can we determine the most effective strategy for preventing credit card fraud using the information in the dataset?\n",
    "\n"
   ]
  },
  {
   "attachments": {},
   "cell_type": "markdown",
   "metadata": {},
   "source": [
    "\n",
    "\n",
    "## Outline de la Implementación\n",
    "\n",
    "El dataset"
   ]
  },
  {
   "attachments": {},
   "cell_type": "markdown",
   "metadata": {},
   "source": [
    "## Limitaciones\n",
    "\n"
   ]
  },
  {
   "cell_type": "markdown",
   "metadata": {},
   "source": []
  }
 ],
 "metadata": {
  "kernelspec": {
   "display_name": ".venv",
   "language": "python",
   "name": "python3"
  },
  "language_info": {
   "codemirror_mode": {
    "name": "ipython",
    "version": 3
   },
   "file_extension": ".py",
   "mimetype": "text/x-python",
   "name": "python",
   "nbconvert_exporter": "python",
   "pygments_lexer": "ipython3",
   "version": "3.10.5"
  },
  "orig_nbformat": 4,
  "vscode": {
   "interpreter": {
    "hash": "d9df4dff65962ee1cf6092696acd1476aec2be18037d4b78e6f85123ba02db62"
   }
  }
 },
 "nbformat": 4,
 "nbformat_minor": 2
}
